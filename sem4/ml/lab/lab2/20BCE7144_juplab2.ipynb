{
 "cells": [
  {
   "cell_type": "code",
   "execution_count": 9,
   "metadata": {},
   "outputs": [],
   "source": [
    "import pandas as pd\n",
    "import numpy as np"
   ]
  },
  {
   "cell_type": "code",
   "execution_count": 10,
   "metadata": {},
   "outputs": [],
   "source": [
    "def train(con,tar):\n",
    "    specific_h = con[0].copy()\n",
    "    general_h=[['?' for x in range(len(specific_h))] for x in range(len(specific_h))]\n",
    "    \n",
    "    for i,val in enumerate(con):\n",
    "        if tar[i] == 'yes':\n",
    "            for x in range(len(specific_h)):\n",
    "                if(val[x] != specific_h[x]):\n",
    "                    specific_h[x] = '?'\n",
    "                    general_h[x][x] = '?'\n",
    "        else:\n",
    "            for x in range(len(specific_h)):\n",
    "                if val[x] != specific_h[x]:\n",
    "                    general_h[x][x] = specific_h[x]\n",
    "                else:\n",
    "                    general_h[x][x]='?'\n",
    "                    \n",
    "        print(\"Iteration[\"+ str(i+1) + \"]\")\n",
    "        print(\"Specific: \"+str(specific_h))\n",
    "        print(\"General: \"+str(general_h)+\"\\n\\n\")\n",
    "    \n",
    "    general_h =[general_h[i] for i, val in enumerate(general_h) if val!= ['?' for x in range(len(specific_h))]]\n",
    "    return specific_h, general_h"
   ]
  },
  {
   "cell_type": "code",
   "execution_count": 11,
   "metadata": {},
   "outputs": [],
   "source": [
    "data1 = pd.read_csv('task1.csv')\n",
    "concept1 = np.array(data1)[:,:-1]\n",
    "target1 = np.array(data1)[:,-1]\n",
    "data2 = pd.read_csv('task2.csv')\n",
    "concept2 = np.array(data2)[:,:-1]\n",
    "target2 = np.array(data2)[:,-1]"
   ]
  },
  {
   "cell_type": "code",
   "execution_count": 12,
   "metadata": {},
   "outputs": [
    {
     "name": "stdout",
     "output_type": "stream",
     "text": [
      "Iteration[1]\n",
      "Specific: ['sunny' 'warm' 'high' 'strong' 'warm' 'same']\n",
      "General: [['?', '?', '?', '?', '?', '?'], ['?', '?', '?', '?', '?', '?'], ['?', '?', '?', '?', '?', '?'], ['?', '?', '?', '?', '?', '?'], ['?', '?', '?', '?', '?', '?'], ['?', '?', '?', '?', '?', '?']]\n",
      "\n",
      "\n",
      "Iteration[2]\n",
      "Specific: ['sunny' 'warm' 'high' 'strong' 'warm' 'same']\n",
      "General: [['sunny', '?', '?', '?', '?', '?'], ['?', 'warm', '?', '?', '?', '?'], ['?', '?', '?', '?', '?', '?'], ['?', '?', '?', 'strong', '?', '?'], ['?', '?', '?', '?', '?', '?'], ['?', '?', '?', '?', '?', 'same']]\n",
      "\n",
      "\n",
      "Iteration[3]\n",
      "Specific: ['sunny' 'warm' 'high' 'strong' 'warm' '?']\n",
      "General: [['sunny', '?', '?', '?', '?', '?'], ['?', 'warm', '?', '?', '?', '?'], ['?', '?', '?', '?', '?', '?'], ['?', '?', '?', 'strong', '?', '?'], ['?', '?', '?', '?', '?', '?'], ['?', '?', '?', '?', '?', '?']]\n",
      "\n",
      "\n",
      "Iteration[4]\n",
      "Specific: ['sunny' 'warm' 'high' 'strong' 'warm' '?']\n",
      "General: [['?', '?', '?', '?', '?', '?'], ['?', '?', '?', '?', '?', '?'], ['?', '?', 'high', '?', '?', '?'], ['?', '?', '?', '?', '?', '?'], ['?', '?', '?', '?', '?', '?'], ['?', '?', '?', '?', '?', '?']]\n",
      "\n",
      "\n",
      "Iteration[5]\n",
      "Specific: ['sunny' 'warm' 'high' 'strong' 'warm' '?']\n",
      "General: [['sunny', '?', '?', '?', '?', '?'], ['?', 'warm', '?', '?', '?', '?'], ['?', '?', 'high', '?', '?', '?'], ['?', '?', '?', '?', '?', '?'], ['?', '?', '?', '?', '?', '?'], ['?', '?', '?', '?', '?', '?']]\n",
      "\n",
      "\n",
      "Iteration[6]\n",
      "Specific: ['sunny' 'warm' 'high' '?' 'warm' '?']\n",
      "General: [['sunny', '?', '?', '?', '?', '?'], ['?', 'warm', '?', '?', '?', '?'], ['?', '?', 'high', '?', '?', '?'], ['?', '?', '?', '?', '?', '?'], ['?', '?', '?', '?', '?', '?'], ['?', '?', '?', '?', '?', '?']]\n",
      "\n",
      "\n",
      "Final hypothesis for dataset 1: \n",
      "Specific hypothesis: ['sunny' 'warm' 'high' '?' 'warm' '?']\n",
      "General hypothses: [['sunny', '?', '?', '?', '?', '?'], ['?', 'warm', '?', '?', '?', '?'], ['?', '?', 'high', '?', '?', '?']]\n"
     ]
    }
   ],
   "source": [
    "specific1 , general1 = train(concept1,target1)\n",
    "print(\"Final hypothesis for dataset 1: \")\n",
    "print(\"Specific hypothesis: \" +str(specific1))\n",
    "print(\"General hypothses: \"+ str(general1))"
   ]
  },
  {
   "cell_type": "code",
   "execution_count": 13,
   "metadata": {},
   "outputs": [
    {
     "name": "stdout",
     "output_type": "stream",
     "text": [
      "Iteration[1]\n",
      "Specific: ['GREEN' 'HARD' 'NO' 'WRINKLED']\n",
      "General: [['?', '?', '?', '?'], ['?', '?', '?', '?'], ['?', '?', '?', '?'], ['?', '?', '?', '?']]\n",
      "\n",
      "\n",
      "Iteration[2]\n",
      "Specific: ['GREEN' 'HARD' 'NO' 'WRINKLED']\n",
      "General: [['?', '?', '?', '?'], ['?', '?', '?', '?'], ['?', '?', 'NO', '?'], ['?', '?', '?', 'WRINKLED']]\n",
      "\n",
      "\n",
      "Iteration[3]\n",
      "Specific: ['GREEN' 'HARD' 'NO' 'WRINKLED']\n",
      "General: [['GREEN', '?', '?', '?'], ['?', 'HARD', '?', '?'], ['?', '?', '?', '?'], ['?', '?', '?', '?']]\n",
      "\n",
      "\n",
      "Iteration[4]\n",
      "Specific: ['GREEN' 'HARD' 'NO' 'WRINKLED']\n",
      "General: [['GREEN', '?', '?', '?'], ['?', '?', '?', '?'], ['?', '?', '?', '?'], ['?', '?', '?', '?']]\n",
      "\n",
      "\n",
      "Iteration[5]\n",
      "Specific: ['GREEN' 'HARD' 'NO' 'WRINKLED']\n",
      "General: [['?', '?', '?', '?'], ['?', 'HARD', '?', '?'], ['?', '?', 'NO', '?'], ['?', '?', '?', 'WRINKLED']]\n",
      "\n",
      "\n",
      "Iteration[6]\n",
      "Specific: ['GREEN' 'HARD' 'NO' 'WRINKLED']\n",
      "General: [['?', '?', '?', '?'], ['?', '?', '?', '?'], ['?', '?', 'NO', '?'], ['?', '?', '?', '?']]\n",
      "\n",
      "\n",
      "Iteration[7]\n",
      "Specific: ['GREEN' 'HARD' 'NO' 'WRINKLED']\n",
      "General: [['GREEN', '?', '?', '?'], ['?', '?', '?', '?'], ['?', '?', '?', '?'], ['?', '?', '?', '?']]\n",
      "\n",
      "\n",
      "Final hypothesis for dataset 2: \n",
      "Specific hypothesis: ['GREEN' 'HARD' 'NO' 'WRINKLED']\n",
      "General hypothses: [['GREEN', '?', '?', '?']]\n"
     ]
    }
   ],
   "source": [
    "specific2 , general2 = train(concept2,target2)\n",
    "print(\"Final hypothesis for dataset 2: \")\n",
    "print(\"Specific hypothesis: \" +str(specific2))\n",
    "print(\"General hypothses: \"+ str(general2))"
   ]
  }
 ],
 "metadata": {
  "kernelspec": {
   "display_name": "Python 3 (ipykernel)",
   "language": "python",
   "name": "python3"
  },
  "language_info": {
   "codemirror_mode": {
    "name": "ipython",
    "version": 3
   },
   "file_extension": ".py",
   "mimetype": "text/x-python",
   "name": "python",
   "nbconvert_exporter": "python",
   "pygments_lexer": "ipython3",
   "version": "3.8.10"
  }
 },
 "nbformat": 4,
 "nbformat_minor": 2
}
