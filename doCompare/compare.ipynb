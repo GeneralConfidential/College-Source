{
 "cells": [
  {
   "cell_type": "code",
   "execution_count": 1,
   "metadata": {},
   "outputs": [],
   "source": [
    "from pkgs.simplifier import simplify\n",
    "from pkgs import txt\n",
    "from pkgs.compare import comp\n",
    "import numpy as np"
   ]
  },
  {
   "cell_type": "code",
   "execution_count": 20,
   "metadata": {},
   "outputs": [],
   "source": [
    "import nltk\n",
    "from nltk.tokenize import sent_tokenize, word_tokenize\n",
    "from nltk.corpus import wordnet\n",
    "from nltk.corpus import stopwords\n",
    "from nltk.stem import WordNetLemmatizer\n",
    "\n",
    "lemmatizer = WordNetLemmatizer()\n",
    "stop = set(stopwords.words(\"english\"))\n",
    "stop.remove(\"not\")\n",
    "stop.remove(\"no\")\n",
    "posIgnore = [\"$\",\"''\",\"(\",\")\",\",\",\"--\",\".\",\":\",\"CD\",\"FW\",\"LS\",\"NNP\",\"NNPS\",\"NNS\",\"PRP\",\"PRP$\",\"SYM\",\"TO\",\"WDT\",\"WP\",\"WP$\",\"WRB\",\"``\"]\n",
    "exStr = \"There is a setuid binary in the homedirectory that does the following: it makes a connection to localhost on the port you specify as a commandline argument. It then reads a line of text from the connection and compares it to the password in the previous level.\"\n",
    "\n",
    "def getWnetPos(tag):\n",
    "    if tag.startswith('J'):\n",
    "        return wordnet.ADJ\n",
    "    elif tag.startswith('V'):\n",
    "        return wordnet.VERB\n",
    "    elif tag.startswith('N'):\n",
    "        return wordnet.NOUN\n",
    "    elif tag.startswith('R'):\n",
    "        return wordnet.ADV\n",
    "    else:\n",
    "        return None\n",
    "\n",
    "def simplify(parag = exStr):\n",
    "    stns = sent_tokenize(parag)\n",
    "    wrds = []\n",
    "    for a in stns:\n",
    "        wrds.append(word_tokenize(a))\n",
    "    wrdsFilt = []\n",
    "    for i in wrds:\n",
    "        temp = []\n",
    "        for j in i:\n",
    "            if j.casefold() not in stop:\n",
    "                temp.append(j)\n",
    "        wrdsFilt.append(temp)\n",
    "\n",
    "    tagged = []\n",
    "    for words in wrdsFilt:\n",
    "        tagged.append(nltk.pos_tag(words))\n",
    "\n",
    "    wrdsLem = []\n",
    "    for words in tagged:\n",
    "        for word in words:\n",
    "            if word[1] in posIgnore:\n",
    "                wrdsLem.append(word[0])    \n",
    "            elif getWnetPos(word[1]) != None:\n",
    "                wrdsLem.append([lemmatizer.lemmatize(word[0],pos=getWnetPos(word[1]))])\n",
    "            else:\n",
    "                wrdsLem.append([lemmatizer.lemmatize(word[0])])\n",
    "\n",
    "    for words in wrdsLem:\n",
    "        for word in words:\n",
    "            synons = []\n",
    "            for ss in wordnet.synsets(word):\n",
    "                synons.append(ss)\n",
    "            synons.sort()\n",
    "            if(synons):\n",
    "                word = synons[0]\n",
    "            synons.clear()\n",
    "    return wrdsLem"
   ]
  },
  {
   "cell_type": "code",
   "execution_count": 21,
   "metadata": {},
   "outputs": [],
   "source": [
    "from itertools import product\n",
    "import nltk\n",
    "from nltk.corpus import wordnet\n",
    "\n",
    "def wordSimilarity(wrd1,wrd2):\n",
    "    syns1 = wordnet.synsets(wrd1)\n",
    "    syns2 = wordnet.synsets(wrd2)\n",
    "    for sn1, sn2 in product(syns1, syns2):\n",
    "        if syns1 == syns2:\n",
    "            return 1.0\n",
    "        else:\n",
    "            return wordnet.wup_similarity(sn1, sn2)\n",
    "\n",
    "\n",
    "def comp(txt1,txt2):\n",
    "    assert len(txt1) == len(txt2), \"Different number of lines in samples.\"\n",
    "    sim = []\n",
    "    a=txt1.copy()\n",
    "    b=txt2.copy()\n",
    "\n",
    "    #This segment creates array of false for each sentence combination\n",
    "    '''\n",
    "    for i in txt1:\n",
    "        tmp=[]\n",
    "        for j in txt2:\n",
    "            tmp.append(False)\n",
    "        sim.append(tmp)\n",
    "    '''\n",
    "    sim = np.zeros((len(txt1),len(txt2))) == 1\n",
    "    #\n",
    "    #Word Comparasion\n",
    "    for i,j in zip(a,b):\n",
    "        for w1 in i:\n",
    "            for w2 in j:\n",
    "                if w1 == w2:\n",
    "                    sim[a.index(i)][b.index(w1)] = True\n",
    "                    i.discard(w1)\n",
    "                    j.discard(w2)\n",
    "    #\n",
    "    \n",
    "    #Scoring\n",
    "    score = [0]*len(txt1)\n",
    "    total = score.copy()\n",
    "    for i in range(txt1):\n",
    "        for j in range(sim[i]):\n",
    "            total[i][j] += 1\n",
    "            if sim[i][j]:\n",
    "                score[i][j] += 1\n",
    "    #\n",
    "    \n",
    "    return (sum(score)/sum(total))*100"
   ]
  },
  {
   "cell_type": "code",
   "execution_count": 9,
   "metadata": {},
   "outputs": [
    {
     "name": "stdout",
     "output_type": "stream",
     "text": [
      "['laptops']\n"
     ]
    },
    {
     "ename": "ValueError",
     "evalue": "'H' is not in list",
     "output_type": "error",
     "traceback": [
      "\u001b[0;31m---------------------------------------------------------------------------\u001b[0m",
      "\u001b[0;31mValueError\u001b[0m                                Traceback (most recent call last)",
      "Input \u001b[0;32mIn [9]\u001b[0m, in \u001b[0;36m<cell line: 2>\u001b[0;34m()\u001b[0m\n\u001b[1;32m      1\u001b[0m \u001b[39mprint\u001b[39m(simplify(\u001b[39m\"\u001b[39m\u001b[39mlaptops\u001b[39m\u001b[39m\"\u001b[39m))\n\u001b[0;32m----> 2\u001b[0m \u001b[39mprint\u001b[39m(comp(simplify(txt\u001b[39m.\u001b[39;49ma),simplify(txt\u001b[39m.\u001b[39;49mb)))\n",
      "File \u001b[0;32m~/repo/doCompare/pkgs/compare.py:34\u001b[0m, in \u001b[0;36mcomp\u001b[0;34m(txt1, txt2)\u001b[0m\n\u001b[1;32m     <a href='file:///home/raag/repo/doCompare/pkgs/compare.py?line=31'>32</a>\u001b[0m     \u001b[39mbreak\u001b[39;00m\n\u001b[1;32m     <a href='file:///home/raag/repo/doCompare/pkgs/compare.py?line=32'>33</a>\u001b[0m \u001b[39mif\u001b[39;00m w1 \u001b[39m==\u001b[39m w2:\n\u001b[0;32m---> <a href='file:///home/raag/repo/doCompare/pkgs/compare.py?line=33'>34</a>\u001b[0m     sim[a\u001b[39m.\u001b[39mindex(i)][b\u001b[39m.\u001b[39;49mindex(w1)]\n\u001b[1;32m     <a href='file:///home/raag/repo/doCompare/pkgs/compare.py?line=34'>35</a>\u001b[0m     i\u001b[39m.\u001b[39mdiscard(w1)\n\u001b[1;32m     <a href='file:///home/raag/repo/doCompare/pkgs/compare.py?line=35'>36</a>\u001b[0m     j\u001b[39m.\u001b[39mdiscard(w2)\n",
      "\u001b[0;31mValueError\u001b[0m: 'H' is not in list"
     ]
    }
   ],
   "source": [
    "print()\n",
    "print(comp(simplify(txt.a),simplify(txt.b)))"
   ]
  }
 ],
 "metadata": {
  "interpreter": {
   "hash": "916dbcbb3f70747c44a77c7bcd40155683ae19c65e1c03b4aa3499c5328201f1"
  },
  "kernelspec": {
   "display_name": "Python 3.8.10 64-bit",
   "language": "python",
   "name": "python3"
  },
  "language_info": {
   "codemirror_mode": {
    "name": "ipython",
    "version": 3
   },
   "file_extension": ".py",
   "mimetype": "text/x-python",
   "name": "python",
   "nbconvert_exporter": "python",
   "pygments_lexer": "ipython3",
   "version": "3.8.10"
  },
  "orig_nbformat": 4
 },
 "nbformat": 4,
 "nbformat_minor": 2
}
