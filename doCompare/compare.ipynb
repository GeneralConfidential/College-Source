{
 "cells": [
  {
   "cell_type": "markdown",
   "metadata": {},
   "source": [
    "from pkgs.simplifier import simplify\n",
    "from pkgs.compare import comp"
   ]
  },
  {
   "cell_type": "code",
   "execution_count": 144,
   "metadata": {},
   "outputs": [],
   "source": [
    "from pkgs import txt\n",
    "\n",
    "import numpy as np\n",
    "\n",
    "import nltk\n",
    "from nltk.tokenize import sent_tokenize, word_tokenize\n",
    "from nltk.corpus import wordnet\n",
    "from nltk.corpus import stopwords\n",
    "from nltk.stem import WordNetLemmatizer"
   ]
  },
  {
   "cell_type": "code",
   "execution_count": 145,
   "metadata": {},
   "outputs": [],
   "source": [
    "file1 = open('doc1.txt','r')\n",
    "file2 = open('doc2.txt','r')\n",
    "\n",
    "a = file1.read()\n",
    "b = file2.read()"
   ]
  },
  {
   "cell_type": "code",
   "execution_count": 146,
   "metadata": {},
   "outputs": [],
   "source": [
    "lemmatizer = WordNetLemmatizer()\n",
    "stop = set(stopwords.words(\"english\"))\n",
    "stop.remove(\"not\")\n",
    "stop.remove(\"no\")\n",
    "posIgnore = [\"$\",\"''\",\"(\",\")\",\",\",\"--\",\".\",\":\",\"CD\",\"FW\",\"LS\",\"NNP\",\"NNPS\",\"NNS\",\"PRP\",\"PRP$\",\"SYM\",\"TO\",\"WDT\",\"WP\",\"WP$\",\"WRB\",\"``\"]\n",
    "exStr = \"There is a setuid binary in the homedirectory that does the following: it makes a connection to localhost on the port you specify as a commandline argument. It then reads a line of text from the connection and compares it to the password in the previous level.\""
   ]
  },
  {
   "cell_type": "code",
   "execution_count": 147,
   "metadata": {},
   "outputs": [],
   "source": [
    "def getWnetPos(tag):\n",
    "    if tag.startswith('J'):\n",
    "        return wordnet.ADJ\n",
    "    elif tag.startswith('V'):\n",
    "        return wordnet.VERB\n",
    "    elif tag.startswith('N'):\n",
    "        return wordnet.NOUN\n",
    "    elif tag.startswith('R'):\n",
    "        return wordnet.ADV\n",
    "    else:\n",
    "        return None\n",
    "\n",
    "def simplify(parag = exStr):\n",
    "    stns = sent_tokenize(parag)\n",
    "    wrds = []\n",
    "    for stn in stns:\n",
    "        wrds.append(word_tokenize(stn))\n",
    "    wrdsFilt = []\n",
    "    for i in wrds:\n",
    "        temp = []\n",
    "        for j in i:\n",
    "            if j.casefold() not in stop:\n",
    "                temp.append(j)\n",
    "        wrdsFilt.append(temp)\n",
    "\n",
    "    tagged = []\n",
    "    for words in wrdsFilt:\n",
    "        tagged.append(nltk.pos_tag(words))\n",
    "    wrdsLem = []\n",
    "    for words in tagged:\n",
    "        temp = []\n",
    "        for word in words:\n",
    "            if word[1] in posIgnore:\n",
    "                temp.append((word[0],word[1]))    \n",
    "            elif getWnetPos(word[1]) != None:\n",
    "                temp.append((lemmatizer.lemmatize(word[0],pos=getWnetPos(word[1])),word[1]))\n",
    "            else:\n",
    "                temp.append((lemmatizer.lemmatize(word[0]),word[1]))\n",
    "        wrdsLem.append(temp)\n",
    "    #print(wrdsLemTag)\n",
    "    '''\n",
    "    for words in wrdsLemTag:\n",
    "        temp = []\n",
    "        for word in words:\n",
    "            temp.append(word[0])\n",
    "        wrdsLem.append(temp)\n",
    "    '''\n",
    "    \n",
    "    syn = []\n",
    "    '''\n",
    "    for words in wrdsLem:\n",
    "        temp = []\n",
    "        for word in words:\n",
    "            synons = []\n",
    "            if word in ['.',',']:\n",
    "                continue\n",
    "            if((wrdsLemTag[wrdsLem.index(words)][words.index(word)])[1].startswith('N')):\n",
    "                temp.append(word)\n",
    "                continue\n",
    "            for ss in wordnet.synsets(word):\n",
    "                synons.append(ss)\n",
    "            synons.sort()\n",
    "            if(synons):\n",
    "                wrd = synons[0]\n",
    "            synons.clear()\n",
    "            temp.append(wrd.name().partition('.')[0])\n",
    "        syn.append(temp)\n",
    "    '''\n",
    "    for words in wrdsLem:\n",
    "        temp = []\n",
    "        for word,tag in words:\n",
    "            if word in ['.',',']:\n",
    "                continue\n",
    "            temp.append((word,tag))\n",
    "        syn.append(temp)\n",
    "\n",
    "    return syn"
   ]
  },
  {
   "cell_type": "code",
   "execution_count": 148,
   "metadata": {},
   "outputs": [],
   "source": [
    "def nMax(listIn, n):\n",
    "    maxN = []\n",
    "    list1 = listIn.copy()\n",
    "    for i in range(0, n): \n",
    "        max1 = 0.0\n",
    "        \n",
    "        for j in range(len(list1)):     \n",
    "            if list1[j] > max1:\n",
    "                max1 = list1[j]  \n",
    "        \n",
    "        list1.remove(max1)\n",
    "        maxN.append(max1)\n",
    "    return maxN"
   ]
  },
  {
   "cell_type": "code",
   "execution_count": 149,
   "metadata": {},
   "outputs": [],
   "source": [
    "from itertools import product\n",
    "import nltk\n",
    "from nltk.corpus import wordnet\n",
    "\n",
    "def wordSimilarity(wrd1,wrd2):\n",
    "    \n",
    "    syns1 = wordnet.synsets(wrd1)\n",
    "    syns2 = wordnet.synsets(wrd2)\n",
    "    for sn1, sn2 in product(syns1, syns2):\n",
    "        simil = wordnet.wup_similarity(sn1, sn2)\n",
    "        if syns1 == syns2:\n",
    "            return 1.0\n",
    "        else:\n",
    "            return simil #if (simil != None) else 0.5 # Due to None implying uncertainity\n",
    "\n",
    "\n",
    "def comp(txt1,txt2):\n",
    "    assert len(txt1) == len(txt2), \"Different number of lines in samples.\"\n",
    "    \n",
    "    sim = np.zeros((len(txt1),len(txt2))) == 1\n",
    "    \n",
    "    #Word Comparasion and Scoring\n",
    "    totalScore = []\n",
    "    for sA,sB in zip(txt1,txt2):\n",
    "        discard = []\n",
    "        score = []\n",
    "        for wA in sA:\n",
    "            wrdScores = []\n",
    "            if wA in discard: continue\n",
    "            for wB in sB:\n",
    "                if wB in discard: continue\n",
    "                wrdScores.append(wordSimilarity(wA[0],wB[0])) \n",
    "                #print(wA[0],wB[0],wordSimilarity(wA[0],wB[0]))\n",
    "            #print(wrdScores)\n",
    "            wrdScores = [i if i != None else 0.1 for i in wrdScores] # Replace all uncertain values, ie. None, with a valid approximate value\n",
    "            score.append(max(wrdScores))\n",
    "            discard.append(sB[wrdScores.index(max(wrdScores))])\n",
    "        totalScore.append(sum(nMax(score,min(len(sA),len(sB))))/len(nMax(score,min(len(sA),len(sB)))))\n",
    "    \n",
    "    return totalScore"
   ]
  },
  {
   "cell_type": "code",
   "execution_count": 150,
   "metadata": {},
   "outputs": [
    {
     "ename": "ValueError",
     "evalue": "list.remove(x): x not in list",
     "output_type": "error",
     "traceback": [
      "\u001b[0;31m---------------------------------------------------------------------------\u001b[0m",
      "\u001b[0;31mValueError\u001b[0m                                Traceback (most recent call last)",
      "\u001b[1;32m/home/raag/repo/doCompare/compare.ipynb Cell 8'\u001b[0m in \u001b[0;36m<cell line: 2>\u001b[0;34m()\u001b[0m\n\u001b[1;32m      <a href='vscode-notebook-cell://wsl%2Bubuntu-20.04/home/raag/repo/doCompare/compare.ipynb#ch0000006vscode-remote?line=0'>1</a>\u001b[0m \u001b[39m#simplify(a)[0]\u001b[39;00m\n\u001b[0;32m----> <a href='vscode-notebook-cell://wsl%2Bubuntu-20.04/home/raag/repo/doCompare/compare.ipynb#ch0000006vscode-remote?line=1'>2</a>\u001b[0m \u001b[39mprint\u001b[39m(comp(simplify(a),simplify(b)))\n",
      "\u001b[1;32m/home/raag/repo/doCompare/compare.ipynb Cell 7'\u001b[0m in \u001b[0;36mcomp\u001b[0;34m(txt1, txt2)\u001b[0m\n\u001b[1;32m     <a href='vscode-notebook-cell://wsl%2Bubuntu-20.04/home/raag/repo/doCompare/compare.ipynb#ch0000005vscode-remote?line=35'>36</a>\u001b[0m         score\u001b[39m.\u001b[39mappend(\u001b[39mmax\u001b[39m(wrdScores))\n\u001b[1;32m     <a href='vscode-notebook-cell://wsl%2Bubuntu-20.04/home/raag/repo/doCompare/compare.ipynb#ch0000005vscode-remote?line=36'>37</a>\u001b[0m         discard\u001b[39m.\u001b[39mappend(sB[wrdScores\u001b[39m.\u001b[39mindex(\u001b[39mmax\u001b[39m(wrdScores))])\n\u001b[0;32m---> <a href='vscode-notebook-cell://wsl%2Bubuntu-20.04/home/raag/repo/doCompare/compare.ipynb#ch0000005vscode-remote?line=37'>38</a>\u001b[0m     totalScore\u001b[39m.\u001b[39mappend(\u001b[39msum\u001b[39m(nMax(score,\u001b[39mmin\u001b[39;49m(\u001b[39mlen\u001b[39;49m(sA),\u001b[39mlen\u001b[39;49m(sB))))\u001b[39m/\u001b[39m\u001b[39mlen\u001b[39m(nMax(score,\u001b[39mmin\u001b[39m(\u001b[39mlen\u001b[39m(sA),\u001b[39mlen\u001b[39m(sB)))))\n\u001b[1;32m     <a href='vscode-notebook-cell://wsl%2Bubuntu-20.04/home/raag/repo/doCompare/compare.ipynb#ch0000005vscode-remote?line=39'>40</a>\u001b[0m \u001b[39mreturn\u001b[39;00m totalScore\n",
      "\u001b[1;32m/home/raag/repo/doCompare/compare.ipynb Cell 6'\u001b[0m in \u001b[0;36mnMax\u001b[0;34m(listIn, n)\u001b[0m\n\u001b[1;32m      <a href='vscode-notebook-cell://wsl%2Bubuntu-20.04/home/raag/repo/doCompare/compare.ipynb#ch0000010vscode-remote?line=6'>7</a>\u001b[0m         \u001b[39mif\u001b[39;00m list1[j] \u001b[39m>\u001b[39m max1:\n\u001b[1;32m      <a href='vscode-notebook-cell://wsl%2Bubuntu-20.04/home/raag/repo/doCompare/compare.ipynb#ch0000010vscode-remote?line=7'>8</a>\u001b[0m             max1 \u001b[39m=\u001b[39m list1[j]  \n\u001b[0;32m----> <a href='vscode-notebook-cell://wsl%2Bubuntu-20.04/home/raag/repo/doCompare/compare.ipynb#ch0000010vscode-remote?line=8'>9</a>\u001b[0m     list1\u001b[39m.\u001b[39;49mremove(max1)\n\u001b[1;32m     <a href='vscode-notebook-cell://wsl%2Bubuntu-20.04/home/raag/repo/doCompare/compare.ipynb#ch0000010vscode-remote?line=9'>10</a>\u001b[0m     maxN\u001b[39m.\u001b[39mappend(max1)\n\u001b[1;32m     <a href='vscode-notebook-cell://wsl%2Bubuntu-20.04/home/raag/repo/doCompare/compare.ipynb#ch0000010vscode-remote?line=10'>11</a>\u001b[0m \u001b[39mreturn\u001b[39;00m maxN\n",
      "\u001b[0;31mValueError\u001b[0m: list.remove(x): x not in list"
     ]
    }
   ],
   "source": [
    "#simplify(a)[0]\n",
    "print(comp(simplify(a),simplify(b)))\n",
    "#print(comp(simplify(),simplify()))"
   ]
  },
  {
   "cell_type": "code",
   "execution_count": null,
   "metadata": {},
   "outputs": [
    {
     "data": {
      "text/plain": [
       "2"
      ]
     },
     "execution_count": 132,
     "metadata": {},
     "output_type": "execute_result"
    }
   ],
   "source": []
  }
 ],
 "metadata": {
  "interpreter": {
   "hash": "916dbcbb3f70747c44a77c7bcd40155683ae19c65e1c03b4aa3499c5328201f1"
  },
  "kernelspec": {
   "display_name": "Python 3.8.10 64-bit",
   "language": "python",
   "name": "python3"
  },
  "language_info": {
   "codemirror_mode": {
    "name": "ipython",
    "version": 3
   },
   "file_extension": ".py",
   "mimetype": "text/x-python",
   "name": "python",
   "nbconvert_exporter": "python",
   "pygments_lexer": "ipython3",
   "version": "3.8.10"
  },
  "orig_nbformat": 4
 },
 "nbformat": 4,
 "nbformat_minor": 2
}
