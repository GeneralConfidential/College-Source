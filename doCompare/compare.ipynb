{
 "cells": [
  {
   "cell_type": "markdown",
   "metadata": {},
   "source": [
    "%pip install numpy nltk \n",
    "nltk.download('stopwords')\n",
    "nltk.download('punkt')\n",
    "nltk.download('averaged_perceptron_tagger')\n",
    "nltk.download('wordnet')\n",
    "nltk.download('omw-1.4')"
   ]
  },
  {
   "cell_type": "markdown",
   "metadata": {},
   "source": [
    "from pkgs.simplifier import simplify\n",
    "from pkgs.compare import comp"
   ]
  },
  {
   "cell_type": "code",
   "execution_count": 75,
   "metadata": {},
   "outputs": [],
   "source": [
    "from pkgs import txt\n",
    "\n",
    "import numpy as np\n",
    "\n",
    "import nltk\n",
    "from nltk.tokenize import sent_tokenize, word_tokenize\n",
    "from nltk.corpus import wordnet\n",
    "from nltk.corpus import stopwords\n",
    "from nltk.stem import WordNetLemmatizer"
   ]
  },
  {
   "cell_type": "code",
   "execution_count": 76,
   "metadata": {},
   "outputs": [],
   "source": [
    "file1 = open('doc1.txt','r')\n",
    "file2 = open('doc2.txt','r')\n",
    "\n",
    "a = file1.read()\n",
    "b = file2.read()"
   ]
  },
  {
   "cell_type": "code",
   "execution_count": 77,
   "metadata": {},
   "outputs": [],
   "source": [
    "lemmatizer = WordNetLemmatizer()\n",
    "stop = set(stopwords.words(\"english\"))\n",
    "stop.remove(\"not\")\n",
    "stop.remove(\"no\")\n",
    "posIgnore = [\"$\",\"''\",\"(\",\")\",\",\",\"--\",\".\",\":\",\"CD\",\"FW\",\"LS\",\"NNP\",\"NNPS\",\"NNS\",\"PRP\",\"PRP$\",\"SYM\",\"TO\",\"WDT\",\"WP\",\"WP$\",\"WRB\",\"``\"]\n",
    "exStr = \"There is a setuid binary in the homedirectory that does the following: it makes a connection to localhost on the port you specify as a commandline argument. It then reads a line of text from the connection and compares it to the password in the previous level.\""
   ]
  },
  {
   "cell_type": "code",
   "execution_count": 78,
   "metadata": {},
   "outputs": [],
   "source": [
    "def getWnetPos(tag):\n",
    "    if tag.startswith('J'):\n",
    "        return wordnet.ADJ\n",
    "    elif tag.startswith('V'):\n",
    "        return wordnet.VERB\n",
    "    elif tag.startswith('N'):\n",
    "        return wordnet.NOUN\n",
    "    elif tag.startswith('R'):\n",
    "        return wordnet.ADV\n",
    "    else:\n",
    "        return None\n",
    "\n",
    "def simplify(parag = exStr):\n",
    "    stns = sent_tokenize(parag)\n",
    "    wrds = []\n",
    "    for stn in stns:\n",
    "        wrds.append(word_tokenize(stn))\n",
    "    wrdsFilt = []\n",
    "    for i in wrds:\n",
    "        temp = []\n",
    "        for j in i:\n",
    "            if j.casefold() not in stop:\n",
    "                temp.append(j)\n",
    "        wrdsFilt.append(temp)\n",
    "\n",
    "    tagged = []\n",
    "    for words in wrdsFilt:\n",
    "        tagged.append(nltk.pos_tag(words))\n",
    "    wrdsLem = []\n",
    "    for words in tagged:\n",
    "        temp = []\n",
    "        for word in words:\n",
    "            if word[1] in posIgnore:\n",
    "                temp.append((word[0],word[1]))    \n",
    "            elif getWnetPos(word[1]) != None:\n",
    "                temp.append((lemmatizer.lemmatize(word[0],pos=getWnetPos(word[1])),word[1]))\n",
    "            else:\n",
    "                temp.append((lemmatizer.lemmatize(word[0]),word[1]))\n",
    "        wrdsLem.append(temp)\n",
    "    \n",
    "    syn = []\n",
    "    for words in wrdsLem:\n",
    "        temp = []\n",
    "        for word,tag in words:\n",
    "            if word in ['.',',']:\n",
    "                continue\n",
    "            temp.append((word,tag))\n",
    "        syn.append(temp)\n",
    "\n",
    "    return syn"
   ]
  },
  {
   "cell_type": "code",
   "execution_count": 79,
   "metadata": {},
   "outputs": [],
   "source": [
    "def nMax(listIn, n):\n",
    "    maxN = []\n",
    "    list1 = listIn.copy()\n",
    "    for i in range(0, min(n,len(listIn))): \n",
    "        max1 = list1[0]\n",
    "        for e in list1:     \n",
    "            if e > max1:\n",
    "                max1 = e  \n",
    "        \n",
    "        list1.remove(max1)\n",
    "        maxN.append(max1)\n",
    "    return maxN"
   ]
  },
  {
   "cell_type": "code",
   "execution_count": 80,
   "metadata": {},
   "outputs": [],
   "source": [
    "from itertools import product\n",
    "import nltk\n",
    "from nltk.corpus import wordnet\n",
    "\n",
    "def wordSimilarity(wrd1,wrd2):\n",
    "    \n",
    "    syns1 = wordnet.synsets(wrd1)\n",
    "    syns2 = wordnet.synsets(wrd2)\n",
    "    for sn1, sn2 in product(syns1, syns2):\n",
    "        simil = wordnet.wup_similarity(sn1, sn2)\n",
    "        if syns1 == syns2:\n",
    "            return 1.0\n",
    "        else:\n",
    "            return simil #if (simil != None) else 0.5 # Due to None implying uncertainity\n",
    "\n",
    "\n",
    "def comp(txt1,txt2):\n",
    "    assert len(txt1) == len(txt2), \"Different number of lines in samples.\"\n",
    "    \n",
    "    sim = np.zeros((len(txt1),len(txt2))) == 1\n",
    "    \n",
    "    #Word Comparasion and Scoring\n",
    "    totalScore=[]\n",
    "    for sA,sB in zip(txt1,txt2):\n",
    "        discard = []\n",
    "        score = []\n",
    "        for wA in sA:\n",
    "            wrdScores = []\n",
    "            if wA in discard: continue\n",
    "            for wB in sB:\n",
    "                if wB in discard: continue\n",
    "                wrdScores.append(wordSimilarity(wA[0],wB[0])) \n",
    "                #print(wA[0],wB[0],wordSimilarity(wA[0],wB[0]))\n",
    "            #print(wrdScores)\n",
    "            wrdScores = [i if i != None else 0.1 for i in wrdScores] # Replace all uncertain values, ie. None, with a valid approximate value\n",
    "            score.append(max(wrdScores))\n",
    "            discard.append(sB[wrdScores.index(max(wrdScores))])\n",
    "        totalScore.append(sum(nMax(score,min(len(sA),len(sB))))/len(nMax(score,min(len(sA),len(sB)))))\n",
    "    \n",
    "    return totalScore"
   ]
  },
  {
   "cell_type": "code",
   "execution_count": 81,
   "metadata": {},
   "outputs": [
    {
     "name": "stdout",
     "output_type": "stream",
     "text": [
      "[0.5297138047138047, 0.9099999999999999]\n"
     ]
    }
   ],
   "source": [
    "#simplify(a)[0]\n",
    "print(comp(simplify(a),simplify(b)))\n",
    "#print(comp(simplify(),simplify()))"
   ]
  },
  {
   "cell_type": "code",
   "execution_count": 82,
   "metadata": {},
   "outputs": [
    {
     "data": {
      "text/plain": [
       "[99, 8, 7, 5, 3.2, 3, 2, 1]"
      ]
     },
     "execution_count": 82,
     "metadata": {},
     "output_type": "execute_result"
    }
   ],
   "source": [
    "nMax([2,7,99,5,1,8,3,3.2],99)"
   ]
  }
 ],
 "metadata": {
  "kernelspec": {
   "display_name": "Python 3.8.10 64-bit",
   "language": "python",
   "name": "python3"
  },
  "language_info": {
   "codemirror_mode": {
    "name": "ipython",
    "version": 3
   },
   "file_extension": ".py",
   "mimetype": "text/x-python",
   "name": "python",
   "nbconvert_exporter": "python",
   "pygments_lexer": "ipython3",
   "version": "3.8.10"
  },
  "orig_nbformat": 4,
  "vscode": {
   "interpreter": {
    "hash": "31f2aee4e71d21fbe5cf8b01ff0e069b9275f58929596ceb00d14d90e3e16cd6"
   }
  }
 },
 "nbformat": 4,
 "nbformat_minor": 2
}
