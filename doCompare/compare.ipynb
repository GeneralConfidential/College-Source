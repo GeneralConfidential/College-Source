{
 "cells": [
  {
   "cell_type": "markdown",
   "metadata": {},
   "source": [
    "from pkgs.simplifier import simplify\n",
    "from pkgs.compare import comp"
   ]
  },
  {
   "cell_type": "code",
   "execution_count": 46,
   "metadata": {},
   "outputs": [],
   "source": [
    "from pkgs import txt\n",
    "\n",
    "import numpy as np\n",
    "\n",
    "import nltk\n",
    "from nltk.tokenize import sent_tokenize, word_tokenize\n",
    "from nltk.corpus import wordnet\n",
    "from nltk.corpus import stopwords\n",
    "from nltk.stem import WordNetLemmatizer"
   ]
  },
  {
   "cell_type": "code",
   "execution_count": 47,
   "metadata": {},
   "outputs": [],
   "source": [
    "file1 = open('doc1.txt','r')\n",
    "file2 = open('doc2.txt','r')\n",
    "\n",
    "a = file1.read()\n",
    "b = file2.read()"
   ]
  },
  {
   "cell_type": "code",
   "execution_count": null,
   "metadata": {},
   "outputs": [],
   "source": [
    "lemmatizer = WordNetLemmatizer()\n",
    "stop = set(stopwords.words(\"english\"))\n",
    "stop.remove(\"not\")\n",
    "stop.remove(\"no\")\n",
    "posIgnore = [\"$\",\"''\",\"(\",\")\",\",\",\"--\",\".\",\":\",\"CD\",\"FW\",\"LS\",\"NNP\",\"NNPS\",\"NNS\",\"PRP\",\"PRP$\",\"SYM\",\"TO\",\"WDT\",\"WP\",\"WP$\",\"WRB\",\"``\"]\n",
    "exStr = \"There is a setuid binary in the homedirectory that does the following: it makes a connection to localhost on the port you specify as a commandline argument. It then reads a line of text from the connection and compares it to the password in the previous level.\""
   ]
  },
  {
   "cell_type": "code",
   "execution_count": 48,
   "metadata": {},
   "outputs": [],
   "source": [
    "def getWnetPos(tag):\n",
    "    if tag.startswith('J'):\n",
    "        return wordnet.ADJ\n",
    "    elif tag.startswith('V'):\n",
    "        return wordnet.VERB\n",
    "    elif tag.startswith('N'):\n",
    "        return wordnet.NOUN\n",
    "    elif tag.startswith('R'):\n",
    "        return wordnet.ADV\n",
    "    else:\n",
    "        return None\n",
    "\n",
    "def simplify(parag = exStr):\n",
    "    stns = sent_tokenize(parag)\n",
    "    wrds = []\n",
    "    for stn in stns:\n",
    "        wrds.append(word_tokenize(stn))\n",
    "    wrdsFilt = []\n",
    "    for i in wrds:\n",
    "        temp = []\n",
    "        for j in i:\n",
    "            if j.casefold() not in stop:\n",
    "                temp.append(j)\n",
    "        wrdsFilt.append(temp)\n",
    "\n",
    "    tagged = []\n",
    "    for words in wrdsFilt:\n",
    "        tagged.append(nltk.pos_tag(words))\n",
    "    wrdsLemTag = []\n",
    "    wrdsLem = []\n",
    "    for words in tagged:\n",
    "        temp = []\n",
    "        for word in words:\n",
    "            if word[1] in posIgnore:\n",
    "                temp.append((word[0],word[1]))    \n",
    "            elif getWnetPos(word[1]) != None:\n",
    "                temp.append((lemmatizer.lemmatize(word[0],pos=getWnetPos(word[1])),word[1]))\n",
    "            else:\n",
    "                temp.append((lemmatizer.lemmatize(word[0]),word[1]))\n",
    "        wrdsLem.append(temp)\n",
    "    #print(wrdsLemTag)\n",
    "    '''\n",
    "    for words in wrdsLemTag:\n",
    "        temp = []\n",
    "        for word in words:\n",
    "            temp.append(word[0])\n",
    "        wrdsLem.append(temp)\n",
    "    '''\n",
    "    \n",
    "    syn = []\n",
    "    '''\n",
    "    for words in wrdsLem:\n",
    "        temp = []\n",
    "        for word in words:\n",
    "            synons = []\n",
    "            if word in ['.',',']:\n",
    "                continue\n",
    "            if((wrdsLemTag[wrdsLem.index(words)][words.index(word)])[1].startswith('N')):\n",
    "                temp.append(word)\n",
    "                continue\n",
    "            for ss in wordnet.synsets(word):\n",
    "                synons.append(ss)\n",
    "            synons.sort()\n",
    "            if(synons):\n",
    "                wrd = synons[0]\n",
    "            synons.clear()\n",
    "            temp.append(wrd.name().partition('.')[0])\n",
    "        syn.append(temp)\n",
    "    '''\n",
    "    for words in wrdsLem:\n",
    "        temp = []\n",
    "        for word,tag in words:\n",
    "            if word in ['.',',']:\n",
    "                continue\n",
    "            temp.append((word,tag))\n",
    "        syn.append(temp)\n",
    "\n",
    "    return syn"
   ]
  },
  {
   "cell_type": "code",
   "execution_count": 67,
   "metadata": {},
   "outputs": [],
   "source": [
    "from itertools import product\n",
    "import nltk\n",
    "from nltk.corpus import wordnet\n",
    "\n",
    "def wordSimilarity(wrd1,wrd2):\n",
    "    \n",
    "    syns1 = wordnet.synsets(wrd1)\n",
    "    syns2 = wordnet.synsets(wrd2)\n",
    "    for sn1, sn2 in product(syns1, syns2):\n",
    "        if syns1 == syns2:\n",
    "            return 1.0\n",
    "        else:\n",
    "            return wordnet.wup_similarity(sn1, sn2)\n",
    "\n",
    "\n",
    "def comp(txt1,txt2):\n",
    "    assert len(txt1) == len(txt2), \"Different number of lines in samples.\"\n",
    "    \n",
    "    sim = np.zeros((len(txt1),len(txt2))) == 1\n",
    "    \n",
    "    #Word Comparasion and Scoring\n",
    "    totalScore = 0.0\n",
    "    for sA,sB in zip(txt1,txt2):\n",
    "        discard = []\n",
    "        score = 0.0\n",
    "        aLen = len(sA)\n",
    "        bLen = len(sB)\n",
    "        for wA in sA:\n",
    "            wrdScores = []\n",
    "            if wA in discard: continue\n",
    "            for wB in sB:\n",
    "                if wB in discard: continue\n",
    "                wrdScores.append(wordSimilarity(wA[0],wB[0])) \n",
    "            print(wrdScores)\n",
    "            score = score + (max(wrdScores)/bLen)\n",
    "            #print(score)\n",
    "            discard.append(sB[wrdScores.index(max(wrdScores))])\n",
    "        totalScore = score\n",
    "    \n",
    "    return totalScore"
   ]
  },
  {
   "cell_type": "code",
   "execution_count": 68,
   "metadata": {},
   "outputs": [
    {
     "name": "stdout",
     "output_type": "stream",
     "text": [
      "[1.0, 0.13333333333333333, 0.19047619047619047, 0.13333333333333333, 0.2, 0.25]\n",
      "[1.0, 0.09090909090909091, 0.25, 0.18181818181818182, 0.11764705882352941]\n",
      "[0.09090909090909091, 1.0, 0.09090909090909091, 0.11764705882352941, 0.9285714285714286]\n",
      "[0.09090909090909091, 1.0, 0.18181818181818182, 0.11764705882352941]\n",
      "[None, None, None, None]\n"
     ]
    },
    {
     "ename": "TypeError",
     "evalue": "'>' not supported between instances of 'NoneType' and 'NoneType'",
     "output_type": "error",
     "traceback": [
      "\u001b[0;31m---------------------------------------------------------------------------\u001b[0m",
      "\u001b[0;31mTypeError\u001b[0m                                 Traceback (most recent call last)",
      "\u001b[1;32m/home/raag/repo/doCompare/compare.ipynb Cell 7'\u001b[0m in \u001b[0;36m<cell line: 2>\u001b[0;34m()\u001b[0m\n\u001b[1;32m      <a href='vscode-notebook-cell://wsl%2Bubuntu-20.04/home/raag/repo/doCompare/compare.ipynb#ch0000005vscode-remote?line=0'>1</a>\u001b[0m \u001b[39m#print(simplify(a))\u001b[39;00m\n\u001b[0;32m----> <a href='vscode-notebook-cell://wsl%2Bubuntu-20.04/home/raag/repo/doCompare/compare.ipynb#ch0000005vscode-remote?line=1'>2</a>\u001b[0m \u001b[39mprint\u001b[39m(comp(simplify(a),simplify(b)))\n",
      "\u001b[1;32m/home/raag/repo/doCompare/compare.ipynb Cell 6'\u001b[0m in \u001b[0;36mcomp\u001b[0;34m(txt1, txt2)\u001b[0m\n\u001b[1;32m     <a href='vscode-notebook-cell://wsl%2Bubuntu-20.04/home/raag/repo/doCompare/compare.ipynb#ch0000004vscode-remote?line=32'>33</a>\u001b[0m     wrdScores\u001b[39m.\u001b[39mappend(wordSimilarity(wA[\u001b[39m0\u001b[39m],wB[\u001b[39m0\u001b[39m])) \n\u001b[1;32m     <a href='vscode-notebook-cell://wsl%2Bubuntu-20.04/home/raag/repo/doCompare/compare.ipynb#ch0000004vscode-remote?line=33'>34</a>\u001b[0m \u001b[39mprint\u001b[39m(wrdScores)\n\u001b[0;32m---> <a href='vscode-notebook-cell://wsl%2Bubuntu-20.04/home/raag/repo/doCompare/compare.ipynb#ch0000004vscode-remote?line=34'>35</a>\u001b[0m score \u001b[39m=\u001b[39m score \u001b[39m+\u001b[39m (\u001b[39mmax\u001b[39;49m(wrdScores)\u001b[39m/\u001b[39mbLen)\n\u001b[1;32m     <a href='vscode-notebook-cell://wsl%2Bubuntu-20.04/home/raag/repo/doCompare/compare.ipynb#ch0000004vscode-remote?line=35'>36</a>\u001b[0m \u001b[39m#print(score)\u001b[39;00m\n\u001b[1;32m     <a href='vscode-notebook-cell://wsl%2Bubuntu-20.04/home/raag/repo/doCompare/compare.ipynb#ch0000004vscode-remote?line=36'>37</a>\u001b[0m discard\u001b[39m.\u001b[39mappend(sB[wrdScores\u001b[39m.\u001b[39mindex(\u001b[39mmax\u001b[39m(wrdScores))])\n",
      "\u001b[0;31mTypeError\u001b[0m: '>' not supported between instances of 'NoneType' and 'NoneType'"
     ]
    }
   ],
   "source": [
    "#print(simplify(a))\n",
    "print(comp(simplify(a),simplify(b)))\n",
    "#print(comp(simplify(),simplify()))"
   ]
  },
  {
   "cell_type": "markdown",
   "metadata": {},
   "source": []
  }
 ],
 "metadata": {
  "interpreter": {
   "hash": "916dbcbb3f70747c44a77c7bcd40155683ae19c65e1c03b4aa3499c5328201f1"
  },
  "kernelspec": {
   "display_name": "Python 3.8.10 64-bit",
   "language": "python",
   "name": "python3"
  },
  "language_info": {
   "codemirror_mode": {
    "name": "ipython",
    "version": 3
   },
   "file_extension": ".py",
   "mimetype": "text/x-python",
   "name": "python",
   "nbconvert_exporter": "python",
   "pygments_lexer": "ipython3",
   "version": "3.8.10"
  },
  "orig_nbformat": 4
 },
 "nbformat": 4,
 "nbformat_minor": 2
}
